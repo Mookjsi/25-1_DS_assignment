{
  "cells": [
    {
      "cell_type": "markdown",
      "metadata": {
        "id": "BOlo4Ctmtm4p"
      },
      "source": [
        "# Transfer Learning Assignment\n",
        "반갑습니다 여러분. 과제를 맡은 김준호입니다. TL 세션에서 다룬 Fine-tuning과 Domain Adaptation을 직접 구현해 봅시다."
      ]
    },
    {
      "cell_type": "markdown",
      "metadata": {
        "id": "qWlAlAeRtm4s"
      },
      "source": [
        "Office-31은 여러 실습에서 자주 등장하는 이미지 데이터셋입니다. Amazon, Webcam, DSLR 세 개의 도메인으로 구성되어 있는데요. \n",
        "\n",
        "총 31개 클래스 (키보드, 마우스, 모니터 등)의 사무용품 이미지가 있고,각 도메인마다 같은 클래스가 포함되어 있지만 도메인마다 이미지 특성은 다릅니다. \n",
        "\n",
        "그래서 이런 transfer learning 실습에 적합하다고 볼 수 있습니다."
      ]
    },
    {
      "cell_type": "code",
      "execution_count": 11,
      "metadata": {
        "id": "6R098oQTS_TC"
      },
      "outputs": [],
      "source": [
        "import os\n",
        "import torch\n",
        "import torchvision\n",
        "from torchvision import transforms, datasets\n",
        "import torch.nn as nn\n",
        "import time\n",
        "from torchvision import models\n",
        "torch.cuda.set_device(0)"
      ]
    },
    {
      "cell_type": "markdown",
      "metadata": {
        "id": "K9Ut17hwUDq-"
      },
      "source": [
        "amazon을 source로, webcam을 target data로 이용해 봅시다."
      ]
    },
    {
      "cell_type": "code",
      "execution_count": 12,
      "metadata": {
        "id": "j4e--IIRU68M"
      },
      "outputs": [],
      "source": [
        "data_folder = 'OFFICE31'\n",
        "batch_size = 32\n",
        "n_class = 31\n",
        "domain_src, domain_tar = 'amazon', 'webcam'"
      ]
    },
    {
      "cell_type": "markdown",
      "metadata": {
        "id": "XA6e2YaPtm4u"
      },
      "source": [
        "source와 target domain에 대한 DataLoader를 생성하고 load해 줍시다."
      ]
    },
    {
      "cell_type": "code",
      "execution_count": 13,
      "metadata": {
        "id": "6JtN_bK9VFcM"
      },
      "outputs": [],
      "source": [
        "def load_data(root_path, domain, batch_size, phase):\n",
        "    transform_dict = {\n",
        "        'src': transforms.Compose(\n",
        "        [transforms.RandomResizedCrop(224),\n",
        "         transforms.RandomHorizontalFlip(),\n",
        "         transforms.ToTensor(),\n",
        "         transforms.Normalize(mean=[0.485, 0.456, 0.406],\n",
        "                              std=[0.229, 0.224, 0.225]),\n",
        "         ]),\n",
        "        'tar': transforms.Compose(\n",
        "        [transforms.Resize(224),\n",
        "         transforms.ToTensor(),\n",
        "         transforms.Normalize(mean=[0.485, 0.456, 0.406],\n",
        "                              std=[0.229, 0.224, 0.225]),\n",
        "         ])}\n",
        "    data = datasets.ImageFolder(root=os.path.join(root_path, domain), transform=transform_dict[phase])\n",
        "    data_loader = torch.utils.data.DataLoader(data, batch_size=batch_size, shuffle=phase=='src', drop_last=phase=='tar', num_workers=4)\n",
        "    return data_loader"
      ]
    },
    {
      "cell_type": "code",
      "execution_count": 14,
      "metadata": {
        "id": "Jf_Gw2HRVJM_"
      },
      "outputs": [
        {
          "name": "stdout",
          "output_type": "stream",
          "text": [
            "Source data number: 2817\n",
            "Target data number: 795\n"
          ]
        }
      ],
      "source": [
        "src_loader = load_data(data_folder, domain_src, batch_size, phase='src')\n",
        "tar_loader = load_data(data_folder, domain_tar, batch_size, phase='tar')\n",
        "print(f'Source data number: {len(src_loader.dataset)}')\n",
        "print(f'Target data number: {len(tar_loader.dataset)}')"
      ]
    },
    {
      "cell_type": "markdown",
      "metadata": {
        "id": "caKMn438tm4v"
      },
      "source": [
        "# Fine-tuning"
      ]
    },
    {
      "cell_type": "markdown",
      "metadata": {},
      "source": [
        "Pre-trained ResNet50을 기반으로 한 간단한 TransferModel을 정의합니다. 여기서 모델 구조는 유지하되 마지막 fc layer만 새롭게 학습되도록 구성합니다."
      ]
    },
    {
      "cell_type": "code",
      "execution_count": 15,
      "metadata": {
        "id": "OXAjmY7pVK8t"
      },
      "outputs": [],
      "source": [
        "class TransferModel(nn.Module):\n",
        "    def __init__(self,\n",
        "                base_model : str = 'resnet50',\n",
        "                pretrain : bool = True,\n",
        "                n_class : int = 31):\n",
        "        super(TransferModel, self).__init__()\n",
        "        self.base_model = base_model\n",
        "        self.pretrain = pretrain\n",
        "        self.n_class = n_class\n",
        "        if self.base_model == 'resnet50':\n",
        "            self.model = models.resnet50(pretrained=self.pretrain)\n",
        "            n_features = self.model.fc.in_features\n",
        "            fc = nn.Linear(n_features, self.n_class)\n",
        "            self.model.fc = fc\n",
        "        else:\n",
        "            pass\n",
        "        self.model.fc.weight.data.normal_(0, 0.005)\n",
        "        self.model.fc.bias.data.fill_(0.1)\n",
        "\n",
        "    def forward(self, x):\n",
        "        return self.model(x)\n",
        "    \n",
        "    def predict(self, x):\n",
        "        return self.forward(x)"
      ]
    },
    {
      "cell_type": "markdown",
      "metadata": {
        "id": "UAqT-0jRtm4w"
      },
      "source": [
        "모델이 정상적으로 작동하는지 random tensor로 테스트해 봅시다."
      ]
    },
    {
      "cell_type": "code",
      "execution_count": 16,
      "metadata": {
        "id": "LewRmYIvXEIo"
      },
      "outputs": [
        {
          "name": "stdout",
          "output_type": "stream",
          "text": [
            "tensor([[ 0.1098,  0.1161,  0.0863,  0.1787,  0.1226, -0.0842, -0.0337, -0.0821,\n",
            "          0.0405,  0.2600,  0.2101, -0.1795,  0.2208,  0.2677,  0.2326, -0.0089,\n",
            "         -0.0200,  0.0656, -0.0515,  0.1343,  0.1223,  0.0520, -0.0219,  0.1853,\n",
            "          0.0100,  0.0373,  0.0816,  0.0068,  0.0073, -0.1173,  0.1522]],\n",
            "       device='cuda:0', grad_fn=<AddmmBackward0>)\n",
            "torch.Size([1, 31])\n"
          ]
        }
      ],
      "source": [
        "model = TransferModel().cuda()\n",
        "RAND_TENSOR = torch.randn(1, 3, 224, 224).cuda()\n",
        "output = model(RAND_TENSOR)\n",
        "print(output)\n",
        "print(output.shape)"
      ]
    },
    {
      "cell_type": "markdown",
      "metadata": {
        "id": "UpX-fuiXtm4w"
      },
      "source": [
        "## Finetune ResNet-50"
      ]
    },
    {
      "cell_type": "markdown",
      "metadata": {
        "id": "0uNeAiPatm4w"
      },
      "source": [
        "Office-31 dataset은 validation set이 따로 없으므로, validation set으로 target domain을 이용해 줍시다.\n",
        "\n",
        "fine-tuning을 위한 학습 및 평가 함수를 정의합니다.\n",
        "학습은 source domain에서 수행하고 target domain에서 검증합니다."
      ]
    },
    {
      "cell_type": "code",
      "execution_count": 17,
      "metadata": {
        "id": "h74gKIVqtm4w"
      },
      "outputs": [],
      "source": [
        "dataloaders = {'src': src_loader,\n",
        "               'val': tar_loader,\n",
        "               'tar': tar_loader}\n",
        "n_epoch = 100\n",
        "criterion = nn.CrossEntropyLoss()\n",
        "early_stop = 20"
      ]
    },
    {
      "cell_type": "code",
      "execution_count": 18,
      "metadata": {
        "id": "-fz_FlAIXsTF"
      },
      "outputs": [],
      "source": [
        "def finetune(model, dataloaders, optimizer):\n",
        "    since = time.time()\n",
        "    best_acc = 0\n",
        "    stop = 0\n",
        "    for epoch in range(0, n_epoch):\n",
        "        stop += 1\n",
        "        # You can uncomment this line for scheduling learning rate\n",
        "        # lr_schedule(optimizer, epoch)\n",
        "        for phase in ['src', 'val', 'tar']:\n",
        "            if phase == 'src':\n",
        "                model.train()\n",
        "            else:\n",
        "                model.eval()\n",
        "            total_loss, correct = 0, 0\n",
        "            for inputs, labels in dataloaders[phase]:\n",
        "                inputs, labels = inputs.cuda(), labels.cuda()\n",
        "                optimizer.zero_grad()\n",
        "                with torch.set_grad_enabled(phase == 'src'):\n",
        "                    outputs = model(inputs)\n",
        "                    loss = criterion(outputs, labels)\n",
        "                preds = torch.max(outputs, 1)[1]\n",
        "                if phase == 'src':\n",
        "                    loss.backward()\n",
        "                    optimizer.step()\n",
        "                total_loss += loss.item() * inputs.size(0)\n",
        "                correct += torch.sum(preds == labels.data)\n",
        "            epoch_loss = total_loss / len(dataloaders[phase].dataset)\n",
        "            epoch_acc = correct.double() / len(dataloaders[phase].dataset)\n",
        "            print(f'Epoch: [{epoch:02d}/{n_epoch:02d}]---{phase}, loss: {epoch_loss:.6f}, acc: {epoch_acc:.4f}')\n",
        "            if phase == 'val' and epoch_acc > best_acc:\n",
        "                stop = 0\n",
        "                best_acc = epoch_acc\n",
        "                torch.save(model.state_dict(), 'model.pkl')\n",
        "        if stop >= early_stop:\n",
        "            break\n",
        "        print()\n",
        "   \n",
        "    time_pass = time.time() - since\n",
        "    print(f'Training complete in {time_pass // 60:.0f}m {time_pass % 60:.0f}s')"
      ]
    },
    {
      "cell_type": "markdown",
      "metadata": {
        "id": "rGUZGrm7tm4x"
      },
      "source": [
        "이제 학습 파라미터들과 optimizer를 정의합니다.\n",
        "간단하게 SGD optimizer를 사용하고 fc layer의 학습률을 다른 layer보다 10배 크게 설정합니다."
      ]
    },
    {
      "cell_type": "code",
      "execution_count": 19,
      "metadata": {
        "id": "HGVIu0JXZaGT"
      },
      "outputs": [],
      "source": [
        "param_group = []\n",
        "learning_rate = 0.0001\n",
        "momentum = 5e-4\n",
        "for k, v in model.named_parameters():\n",
        "    if not k.__contains__('fc'):\n",
        "        param_group += [{'params': v, 'lr': learning_rate}]\n",
        "    else:\n",
        "        param_group += [{'params': v, 'lr': learning_rate * 10}]\n",
        "optimizer = torch.optim.SGD(param_group, momentum=momentum)"
      ]
    },
    {
      "cell_type": "markdown",
      "metadata": {
        "id": "F7zGR_PFtm4y"
      },
      "source": [
        "## Train and test"
      ]
    },
    {
      "cell_type": "code",
      "execution_count": 20,
      "metadata": {
        "id": "uKKrah-AZsHt"
      },
      "outputs": [
        {
          "name": "stdout",
          "output_type": "stream",
          "text": [
            "Epoch: [00/100]---src, loss: 3.372782, acc: 0.1171\n",
            "Epoch: [00/100]---val, loss: 3.170385, acc: 0.0340\n",
            "Epoch: [00/100]---tar, loss: 3.170385, acc: 0.0340\n",
            "\n",
            "Epoch: [01/100]---src, loss: 3.241786, acc: 0.2283\n",
            "Epoch: [01/100]---val, loss: 3.045373, acc: 0.1459\n",
            "Epoch: [01/100]---tar, loss: 3.045373, acc: 0.1459\n",
            "\n",
            "Epoch: [02/100]---src, loss: 3.113441, acc: 0.4235\n",
            "Epoch: [02/100]---val, loss: 2.925585, acc: 0.2390\n",
            "Epoch: [02/100]---tar, loss: 2.925585, acc: 0.2390\n",
            "\n",
            "Epoch: [03/100]---src, loss: 2.993776, acc: 0.5030\n",
            "Epoch: [03/100]---val, loss: 2.795229, acc: 0.4591\n",
            "Epoch: [03/100]---tar, loss: 2.795229, acc: 0.4591\n",
            "\n",
            "Epoch: [04/100]---src, loss: 2.869563, acc: 0.5616\n",
            "Epoch: [04/100]---val, loss: 2.698250, acc: 0.4704\n",
            "Epoch: [04/100]---tar, loss: 2.698250, acc: 0.4704\n",
            "\n",
            "Epoch: [05/100]---src, loss: 2.751421, acc: 0.5850\n",
            "Epoch: [05/100]---val, loss: 2.587825, acc: 0.5660\n",
            "Epoch: [05/100]---tar, loss: 2.587825, acc: 0.5660\n",
            "\n",
            "Epoch: [06/100]---src, loss: 2.629263, acc: 0.6308\n",
            "Epoch: [06/100]---val, loss: 2.499292, acc: 0.5925\n",
            "Epoch: [06/100]---tar, loss: 2.499292, acc: 0.5925\n",
            "\n",
            "Epoch: [07/100]---src, loss: 2.511423, acc: 0.6482\n",
            "Epoch: [07/100]---val, loss: 2.390411, acc: 0.5585\n",
            "Epoch: [07/100]---tar, loss: 2.390411, acc: 0.5585\n",
            "\n",
            "Epoch: [08/100]---src, loss: 2.402805, acc: 0.6631\n",
            "Epoch: [08/100]---val, loss: 2.279875, acc: 0.6692\n",
            "Epoch: [08/100]---tar, loss: 2.279875, acc: 0.6692\n",
            "\n",
            "Epoch: [09/100]---src, loss: 2.294104, acc: 0.6667\n",
            "Epoch: [09/100]---val, loss: 2.169891, acc: 0.6654\n",
            "Epoch: [09/100]---tar, loss: 2.169891, acc: 0.6654\n",
            "\n",
            "Epoch: [10/100]---src, loss: 2.199213, acc: 0.6688\n",
            "Epoch: [10/100]---val, loss: 2.098695, acc: 0.6465\n",
            "Epoch: [10/100]---tar, loss: 2.098695, acc: 0.6465\n",
            "\n",
            "Epoch: [11/100]---src, loss: 2.112945, acc: 0.6688\n",
            "Epoch: [11/100]---val, loss: 2.009776, acc: 0.6868\n",
            "Epoch: [11/100]---tar, loss: 2.009776, acc: 0.6868\n",
            "\n",
            "Epoch: [12/100]---src, loss: 2.021834, acc: 0.6851\n",
            "Epoch: [12/100]---val, loss: 1.916626, acc: 0.7019\n",
            "Epoch: [12/100]---tar, loss: 1.916626, acc: 0.7019\n",
            "\n",
            "Epoch: [13/100]---src, loss: 1.934445, acc: 0.6965\n",
            "Epoch: [13/100]---val, loss: 1.852073, acc: 0.7006\n",
            "Epoch: [13/100]---tar, loss: 1.852073, acc: 0.7006\n",
            "\n",
            "Epoch: [14/100]---src, loss: 1.863171, acc: 0.7022\n",
            "Epoch: [14/100]---val, loss: 1.767994, acc: 0.6843\n",
            "Epoch: [14/100]---tar, loss: 1.767994, acc: 0.6843\n",
            "\n",
            "Epoch: [15/100]---src, loss: 1.796385, acc: 0.7032\n",
            "Epoch: [15/100]---val, loss: 1.700278, acc: 0.6943\n",
            "Epoch: [15/100]---tar, loss: 1.700278, acc: 0.6943\n",
            "\n",
            "Epoch: [16/100]---src, loss: 1.739615, acc: 0.7050\n",
            "Epoch: [16/100]---val, loss: 1.666755, acc: 0.7069\n",
            "Epoch: [16/100]---tar, loss: 1.666755, acc: 0.7069\n",
            "\n",
            "Epoch: [17/100]---src, loss: 1.678371, acc: 0.7078\n",
            "Epoch: [17/100]---val, loss: 1.604468, acc: 0.6818\n",
            "Epoch: [17/100]---tar, loss: 1.604468, acc: 0.6818\n",
            "\n",
            "Epoch: [18/100]---src, loss: 1.631707, acc: 0.7171\n",
            "Epoch: [18/100]---val, loss: 1.590924, acc: 0.6969\n",
            "Epoch: [18/100]---tar, loss: 1.590924, acc: 0.6969\n",
            "\n",
            "Epoch: [19/100]---src, loss: 1.575633, acc: 0.7291\n",
            "Epoch: [19/100]---val, loss: 1.513405, acc: 0.6994\n",
            "Epoch: [19/100]---tar, loss: 1.513405, acc: 0.6994\n",
            "\n",
            "Epoch: [20/100]---src, loss: 1.516067, acc: 0.7231\n",
            "Epoch: [20/100]---val, loss: 1.485780, acc: 0.7044\n",
            "Epoch: [20/100]---tar, loss: 1.485780, acc: 0.7044\n",
            "\n",
            "Epoch: [21/100]---src, loss: 1.491491, acc: 0.7185\n",
            "Epoch: [21/100]---val, loss: 1.477302, acc: 0.6994\n",
            "Epoch: [21/100]---tar, loss: 1.477302, acc: 0.6994\n",
            "\n",
            "Epoch: [22/100]---src, loss: 1.469389, acc: 0.7238\n",
            "Epoch: [22/100]---val, loss: 1.413577, acc: 0.7119\n",
            "Epoch: [22/100]---tar, loss: 1.413577, acc: 0.7119\n",
            "\n",
            "Epoch: [23/100]---src, loss: 1.384557, acc: 0.7345\n",
            "Epoch: [23/100]---val, loss: 1.372773, acc: 0.7119\n",
            "Epoch: [23/100]---tar, loss: 1.372773, acc: 0.7119\n",
            "\n",
            "Epoch: [24/100]---src, loss: 1.359326, acc: 0.7377\n",
            "Epoch: [24/100]---val, loss: 1.335721, acc: 0.7220\n",
            "Epoch: [24/100]---tar, loss: 1.335721, acc: 0.7220\n",
            "\n",
            "Epoch: [25/100]---src, loss: 1.348890, acc: 0.7394\n",
            "Epoch: [25/100]---val, loss: 1.301179, acc: 0.7044\n",
            "Epoch: [25/100]---tar, loss: 1.301179, acc: 0.7044\n",
            "\n",
            "Epoch: [26/100]---src, loss: 1.318766, acc: 0.7348\n",
            "Epoch: [26/100]---val, loss: 1.267018, acc: 0.7233\n",
            "Epoch: [26/100]---tar, loss: 1.267018, acc: 0.7233\n",
            "\n",
            "Epoch: [27/100]---src, loss: 1.268366, acc: 0.7451\n",
            "Epoch: [27/100]---val, loss: 1.232680, acc: 0.7195\n",
            "Epoch: [27/100]---tar, loss: 1.232680, acc: 0.7195\n",
            "\n",
            "Epoch: [28/100]---src, loss: 1.268125, acc: 0.7448\n",
            "Epoch: [28/100]---val, loss: 1.217288, acc: 0.7208\n",
            "Epoch: [28/100]---tar, loss: 1.217288, acc: 0.7208\n",
            "\n",
            "Epoch: [29/100]---src, loss: 1.227350, acc: 0.7480\n",
            "Epoch: [29/100]---val, loss: 1.201326, acc: 0.7258\n",
            "Epoch: [29/100]---tar, loss: 1.201326, acc: 0.7258\n",
            "\n",
            "Epoch: [30/100]---src, loss: 1.223147, acc: 0.7451\n",
            "Epoch: [30/100]---val, loss: 1.185876, acc: 0.7270\n",
            "Epoch: [30/100]---tar, loss: 1.185876, acc: 0.7270\n",
            "\n",
            "Epoch: [31/100]---src, loss: 1.183754, acc: 0.7512\n",
            "Epoch: [31/100]---val, loss: 1.218420, acc: 0.6943\n",
            "Epoch: [31/100]---tar, loss: 1.218420, acc: 0.6943\n",
            "\n",
            "Epoch: [32/100]---src, loss: 1.171360, acc: 0.7504\n",
            "Epoch: [32/100]---val, loss: 1.183076, acc: 0.7157\n",
            "Epoch: [32/100]---tar, loss: 1.183076, acc: 0.7157\n",
            "\n",
            "Epoch: [33/100]---src, loss: 1.143199, acc: 0.7607\n",
            "Epoch: [33/100]---val, loss: 1.159032, acc: 0.7233\n",
            "Epoch: [33/100]---tar, loss: 1.159032, acc: 0.7233\n",
            "\n",
            "Epoch: [34/100]---src, loss: 1.125436, acc: 0.7636\n",
            "Epoch: [34/100]---val, loss: 1.122340, acc: 0.7145\n",
            "Epoch: [34/100]---tar, loss: 1.122340, acc: 0.7145\n",
            "\n",
            "Epoch: [35/100]---src, loss: 1.128311, acc: 0.7543\n",
            "Epoch: [35/100]---val, loss: 1.058903, acc: 0.7321\n",
            "Epoch: [35/100]---tar, loss: 1.058903, acc: 0.7321\n",
            "\n",
            "Epoch: [36/100]---src, loss: 1.096245, acc: 0.7597\n",
            "Epoch: [36/100]---val, loss: 1.132530, acc: 0.7132\n",
            "Epoch: [36/100]---tar, loss: 1.132530, acc: 0.7132\n",
            "\n",
            "Epoch: [37/100]---src, loss: 1.084480, acc: 0.7629\n",
            "Epoch: [37/100]---val, loss: 1.088088, acc: 0.7308\n",
            "Epoch: [37/100]---tar, loss: 1.088088, acc: 0.7308\n",
            "\n",
            "Epoch: [38/100]---src, loss: 1.066741, acc: 0.7607\n",
            "Epoch: [38/100]---val, loss: 1.074078, acc: 0.7321\n",
            "Epoch: [38/100]---tar, loss: 1.074078, acc: 0.7321\n",
            "\n",
            "Epoch: [39/100]---src, loss: 1.054560, acc: 0.7646\n",
            "Epoch: [39/100]---val, loss: 1.034518, acc: 0.7472\n",
            "Epoch: [39/100]---tar, loss: 1.034518, acc: 0.7472\n",
            "\n",
            "Epoch: [40/100]---src, loss: 1.049403, acc: 0.7614\n",
            "Epoch: [40/100]---val, loss: 1.022607, acc: 0.7258\n",
            "Epoch: [40/100]---tar, loss: 1.022607, acc: 0.7258\n",
            "\n",
            "Epoch: [41/100]---src, loss: 1.032107, acc: 0.7682\n",
            "Epoch: [41/100]---val, loss: 1.100184, acc: 0.7094\n",
            "Epoch: [41/100]---tar, loss: 1.100184, acc: 0.7094\n",
            "\n",
            "Epoch: [42/100]---src, loss: 1.012205, acc: 0.7678\n",
            "Epoch: [42/100]---val, loss: 0.993597, acc: 0.7434\n",
            "Epoch: [42/100]---tar, loss: 0.993597, acc: 0.7434\n",
            "\n",
            "Epoch: [43/100]---src, loss: 1.006717, acc: 0.7632\n",
            "Epoch: [43/100]---val, loss: 1.030557, acc: 0.7182\n",
            "Epoch: [43/100]---tar, loss: 1.030557, acc: 0.7182\n",
            "\n",
            "Epoch: [44/100]---src, loss: 0.994693, acc: 0.7664\n",
            "Epoch: [44/100]---val, loss: 1.000097, acc: 0.7459\n",
            "Epoch: [44/100]---tar, loss: 1.000097, acc: 0.7459\n",
            "\n",
            "Epoch: [45/100]---src, loss: 0.998808, acc: 0.7664\n",
            "Epoch: [45/100]---val, loss: 0.979110, acc: 0.7371\n",
            "Epoch: [45/100]---tar, loss: 0.979110, acc: 0.7371\n",
            "\n",
            "Epoch: [46/100]---src, loss: 0.955081, acc: 0.7813\n",
            "Epoch: [46/100]---val, loss: 1.014267, acc: 0.7245\n",
            "Epoch: [46/100]---tar, loss: 1.014267, acc: 0.7245\n",
            "\n",
            "Epoch: [47/100]---src, loss: 0.951307, acc: 0.7764\n",
            "Epoch: [47/100]---val, loss: 0.991918, acc: 0.7333\n",
            "Epoch: [47/100]---tar, loss: 0.991918, acc: 0.7333\n",
            "\n",
            "Epoch: [48/100]---src, loss: 0.949458, acc: 0.7835\n",
            "Epoch: [48/100]---val, loss: 0.967270, acc: 0.7270\n",
            "Epoch: [48/100]---tar, loss: 0.967270, acc: 0.7270\n",
            "\n",
            "Epoch: [49/100]---src, loss: 0.939037, acc: 0.7767\n",
            "Epoch: [49/100]---val, loss: 0.964621, acc: 0.7283\n",
            "Epoch: [49/100]---tar, loss: 0.964621, acc: 0.7283\n",
            "\n",
            "Epoch: [50/100]---src, loss: 0.928021, acc: 0.7796\n",
            "Epoch: [50/100]---val, loss: 0.964649, acc: 0.7346\n",
            "Epoch: [50/100]---tar, loss: 0.964649, acc: 0.7346\n",
            "\n",
            "Epoch: [51/100]---src, loss: 0.915585, acc: 0.7845\n",
            "Epoch: [51/100]---val, loss: 0.934164, acc: 0.7497\n",
            "Epoch: [51/100]---tar, loss: 0.934164, acc: 0.7497\n",
            "\n",
            "Epoch: [52/100]---src, loss: 0.897702, acc: 0.7934\n",
            "Epoch: [52/100]---val, loss: 0.958072, acc: 0.7283\n",
            "Epoch: [52/100]---tar, loss: 0.958072, acc: 0.7283\n",
            "\n",
            "Epoch: [53/100]---src, loss: 0.911248, acc: 0.7820\n",
            "Epoch: [53/100]---val, loss: 0.974287, acc: 0.7233\n",
            "Epoch: [53/100]---tar, loss: 0.974287, acc: 0.7233\n",
            "\n",
            "Epoch: [54/100]---src, loss: 0.893788, acc: 0.7874\n",
            "Epoch: [54/100]---val, loss: 0.968564, acc: 0.7182\n",
            "Epoch: [54/100]---tar, loss: 0.968564, acc: 0.7182\n",
            "\n",
            "Epoch: [55/100]---src, loss: 0.885520, acc: 0.8001\n",
            "Epoch: [55/100]---val, loss: 0.912488, acc: 0.7447\n",
            "Epoch: [55/100]---tar, loss: 0.912488, acc: 0.7447\n",
            "\n",
            "Epoch: [56/100]---src, loss: 0.880971, acc: 0.7934\n",
            "Epoch: [56/100]---val, loss: 0.929435, acc: 0.7358\n",
            "Epoch: [56/100]---tar, loss: 0.929435, acc: 0.7358\n",
            "\n",
            "Epoch: [57/100]---src, loss: 0.869660, acc: 0.7952\n",
            "Epoch: [57/100]---val, loss: 0.938344, acc: 0.7220\n",
            "Epoch: [57/100]---tar, loss: 0.938344, acc: 0.7220\n",
            "\n",
            "Epoch: [58/100]---src, loss: 0.877458, acc: 0.7806\n",
            "Epoch: [58/100]---val, loss: 0.886854, acc: 0.7434\n",
            "Epoch: [58/100]---tar, loss: 0.886854, acc: 0.7434\n",
            "\n",
            "Epoch: [59/100]---src, loss: 0.856013, acc: 0.7945\n",
            "Epoch: [59/100]---val, loss: 0.932318, acc: 0.7233\n",
            "Epoch: [59/100]---tar, loss: 0.932318, acc: 0.7233\n",
            "\n",
            "Epoch: [60/100]---src, loss: 0.859893, acc: 0.7952\n",
            "Epoch: [60/100]---val, loss: 0.885819, acc: 0.7346\n",
            "Epoch: [60/100]---tar, loss: 0.885819, acc: 0.7346\n",
            "\n",
            "Epoch: [61/100]---src, loss: 0.861878, acc: 0.7948\n",
            "Epoch: [61/100]---val, loss: 0.894648, acc: 0.7333\n",
            "Epoch: [61/100]---tar, loss: 0.894648, acc: 0.7333\n",
            "\n",
            "Epoch: [62/100]---src, loss: 0.831098, acc: 0.8023\n",
            "Epoch: [62/100]---val, loss: 0.905762, acc: 0.7270\n",
            "Epoch: [62/100]---tar, loss: 0.905762, acc: 0.7270\n",
            "\n",
            "Epoch: [63/100]---src, loss: 0.819539, acc: 0.8009\n",
            "Epoch: [63/100]---val, loss: 0.908122, acc: 0.7296\n",
            "Epoch: [63/100]---tar, loss: 0.908122, acc: 0.7296\n",
            "\n",
            "Epoch: [64/100]---src, loss: 0.823139, acc: 0.7955\n",
            "Epoch: [64/100]---val, loss: 0.877949, acc: 0.7409\n",
            "Epoch: [64/100]---tar, loss: 0.877949, acc: 0.7409\n",
            "\n",
            "Epoch: [65/100]---src, loss: 0.823344, acc: 0.7934\n",
            "Epoch: [65/100]---val, loss: 0.873440, acc: 0.7447\n",
            "Epoch: [65/100]---tar, loss: 0.873440, acc: 0.7447\n",
            "\n",
            "Epoch: [66/100]---src, loss: 0.811504, acc: 0.8065\n",
            "Epoch: [66/100]---val, loss: 0.859448, acc: 0.7409\n",
            "Epoch: [66/100]---tar, loss: 0.859448, acc: 0.7409\n",
            "\n",
            "Epoch: [67/100]---src, loss: 0.821420, acc: 0.7959\n",
            "Epoch: [67/100]---val, loss: 0.892971, acc: 0.7321\n",
            "Epoch: [67/100]---tar, loss: 0.892971, acc: 0.7321\n",
            "\n",
            "Epoch: [68/100]---src, loss: 0.802886, acc: 0.8037\n",
            "Epoch: [68/100]---val, loss: 0.922491, acc: 0.7270\n",
            "Epoch: [68/100]---tar, loss: 0.922491, acc: 0.7270\n",
            "\n",
            "Epoch: [69/100]---src, loss: 0.819389, acc: 0.7973\n",
            "Epoch: [69/100]---val, loss: 0.875743, acc: 0.7346\n",
            "Epoch: [69/100]---tar, loss: 0.875743, acc: 0.7346\n",
            "\n",
            "Epoch: [70/100]---src, loss: 0.802263, acc: 0.7984\n",
            "Epoch: [70/100]---val, loss: 0.850923, acc: 0.7409\n",
            "Epoch: [70/100]---tar, loss: 0.850923, acc: 0.7409\n",
            "\n",
            "Epoch: [71/100]---src, loss: 0.788590, acc: 0.8087\n",
            "Epoch: [71/100]---val, loss: 0.868624, acc: 0.7321\n",
            "Epoch: [71/100]---tar, loss: 0.868624, acc: 0.7321\n",
            "Training complete in 11m 2s\n"
          ]
        }
      ],
      "source": [
        "# fine-tuning function 호출하여 학습 진행\n",
        "finetune(model, dataloaders, optimizer)"
      ]
    },
    {
      "cell_type": "code",
      "execution_count": 21,
      "metadata": {
        "id": "GR5Y1x4btm4y"
      },
      "outputs": [],
      "source": [
        "def test(model, target_test_loader):\n",
        "    model.eval()\n",
        "    correct = 0\n",
        "    len_target_dataset = len(target_test_loader.dataset)\n",
        "    with torch.no_grad():\n",
        "        for data, target in target_test_loader:\n",
        "            data, target = data.cuda(), target.cuda()\n",
        "            s_output = model.predict(data)\n",
        "            pred = torch.max(s_output, 1)[1]\n",
        "            correct += torch.sum(pred == target)\n",
        "    acc = correct.double() / len(target_test_loader.dataset)\n",
        "    return acc"
      ]
    },
    {
      "cell_type": "code",
      "execution_count": 22,
      "metadata": {
        "id": "1O2CBxmxtm4y"
      },
      "outputs": [
        {
          "name": "stdout",
          "output_type": "stream",
          "text": [
            "Test accuracy: 0.7496855345911949\n"
          ]
        }
      ],
      "source": [
        "model.load_state_dict(torch.load('model.pkl'))\n",
        "acc_test = test(model, dataloaders['tar'])\n",
        "print(f'Test accuracy: {acc_test}')"
      ]
    },
    {
      "cell_type": "markdown",
      "metadata": {
        "id": "I7Iuk_Mitm4z"
      },
      "source": [
        "여기까지가 fine-tuning 파트입니다. 실제 학습에서는 learning rate decay 같은 기법도 사용하지만, 이 과제에서는 그것이 핵심이 아니므로 생략합니다.\n",
        "\n",
        "이제 같은 dataloader를 그대로 활용해서 domain adaptation 실험을 이어가봅시다."
      ]
    },
    {
      "cell_type": "markdown",
      "metadata": {
        "id": "bO4c_QcGtm4z"
      },
      "source": [
        "# Domain Adaptation"
      ]
    },
    {
      "cell_type": "markdown",
      "metadata": {
        "id": "VJwcwLQftm40"
      },
      "source": [
        "Domain adaptation의 핵심 구조는 fine-tuning과 매우 비슷하지만,\n",
        "두 도메인 간 분포 차이를 줄이기 위한 loss function을 추가해야 합니다.\n",
        "\n",
        "여기서는 MMD와 Coral loss를 사용해 두 도메인 간 분포 차이를 계산하는 loss function을 정의합니다. \n",
        "\n",
        "해당 loss를 이용할 수 있도록 새로운 모델 클래스를 정의하고 source의 feature와 label, 그리고 target feature를 모두 이용하도록 학습 스크립트를 수정해봅시다."
      ]
    },
    {
      "cell_type": "markdown",
      "metadata": {
        "id": "Jy_1xwdJtm40"
      },
      "source": [
        "### Loss function\n",
        "Domain Adaptation에서 가장 많이 사용되는 손실 함수는 MMD (Maximum Mean Discrepancy)입니다.\n",
        "\n",
        "비교를 위해 또 다른 대표적인 손실 함수인 CORAL (CORrelation ALignment)도 함께 살펴봅니다."
      ]
    },
    {
      "cell_type": "markdown",
      "metadata": {
        "id": "z3-wKorUtm40"
      },
      "source": [
        "#### MMD loss"
      ]
    },
    {
      "cell_type": "code",
      "execution_count": 23,
      "metadata": {
        "id": "MpQH6VFwtm41"
      },
      "outputs": [],
      "source": [
        "class MMD_loss(nn.Module):\n",
        "    def __init__(self, kernel_type='rbf', kernel_mul=2.0, kernel_num=5):\n",
        "        super(MMD_loss, self).__init__()\n",
        "        self.kernel_num = kernel_num\n",
        "        self.kernel_mul = kernel_mul\n",
        "        self.fix_sigma = None\n",
        "        self.kernel_type = kernel_type\n",
        "\n",
        "    def guassian_kernel(self, source, target, kernel_mul=2.0, kernel_num=5, fix_sigma=None):\n",
        "        n_samples = int(source.size()[0]) + int(target.size()[0])\n",
        "        total = torch.cat([source, target], dim=0)\n",
        "        total0 = total.unsqueeze(0).expand(\n",
        "            int(total.size(0)), int(total.size(0)), int(total.size(1)))\n",
        "        total1 = total.unsqueeze(1).expand(\n",
        "            int(total.size(0)), int(total.size(0)), int(total.size(1)))\n",
        "        L2_distance = ((total0-total1)**2).sum(2)\n",
        "        if fix_sigma:\n",
        "            bandwidth = fix_sigma\n",
        "        else:\n",
        "            bandwidth = torch.sum(L2_distance.data) / (n_samples**2-n_samples)\n",
        "        bandwidth /= kernel_mul ** (kernel_num // 2)\n",
        "        bandwidth_list = [bandwidth * (kernel_mul**i)\n",
        "                          for i in range(kernel_num)]\n",
        "        kernel_val = [torch.exp(-L2_distance / bandwidth_temp)\n",
        "                      for bandwidth_temp in bandwidth_list]\n",
        "        return sum(kernel_val)\n",
        "\n",
        "    def linear_mmd2(self, f_of_X, f_of_Y):\n",
        "        loss = 0.0\n",
        "        delta = f_of_X.float().mean(0) - f_of_Y.float().mean(0)\n",
        "        loss = delta.dot(delta.T)\n",
        "        return loss\n",
        "\n",
        "    def forward(self, source, target):\n",
        "        if self.kernel_type == 'linear':\n",
        "            return self.linear_mmd2(source, target)\n",
        "        elif self.kernel_type == 'rbf':\n",
        "            batch_size = int(source.size()[0])\n",
        "            kernels = self.guassian_kernel(\n",
        "                source, target, kernel_mul=self.kernel_mul, kernel_num=self.kernel_num, fix_sigma=self.fix_sigma)\n",
        "            XX = torch.mean(kernels[:batch_size, :batch_size])\n",
        "            YY = torch.mean(kernels[batch_size:, batch_size:])\n",
        "            XY = torch.mean(kernels[:batch_size, batch_size:])\n",
        "            YX = torch.mean(kernels[batch_size:, :batch_size])\n",
        "            loss = torch.mean(XX + YY - XY - YX)\n",
        "            return loss\n"
      ]
    },
    {
      "cell_type": "markdown",
      "metadata": {
        "id": "NcfUy_2Dtm41"
      },
      "source": [
        "#### CORAL loss"
      ]
    },
    {
      "cell_type": "code",
      "execution_count": 24,
      "metadata": {
        "id": "uZhKJq15tm41"
      },
      "outputs": [],
      "source": [
        "def CORAL(source, target):\n",
        "    d = source.size(1)\n",
        "    ns, nt = source.size(0), target.size(0)\n",
        "\n",
        "    # source covariance\n",
        "    tmp_s = torch.ones((1, ns)).cuda() @ source\n",
        "    cs = (source.t() @ source - (tmp_s.t() @ tmp_s) / ns) / (ns - 1)\n",
        "\n",
        "    # target covariance\n",
        "    tmp_t = torch.ones((1, nt)).cuda() @ target\n",
        "    ct = (target.t() @ target - (tmp_t.t() @ tmp_t) / nt) / (nt - 1)\n",
        "\n",
        "    # frobenius norm\n",
        "    loss = (cs - ct).pow(2).sum().sqrt()\n",
        "    loss = loss / (4 * d * d)\n",
        "\n",
        "    return loss"
      ]
    },
    {
      "cell_type": "markdown",
      "metadata": {
        "id": "VB2cDp8Gtm41"
      },
      "source": [
        "### Model\n",
        "여기서도 backbone으로는 ResNet-50을 사용합니다.\n",
        "다만 이번에는 ResNet-50의 마지막 classifier layer를 제거한 feature extractor로 사용합니다."
      ]
    },
    {
      "cell_type": "code",
      "execution_count": 25,
      "metadata": {
        "id": "UOLx_OSxtm41"
      },
      "outputs": [],
      "source": [
        "from torchvision import models\n",
        "class ResNet50Fc(nn.Module):\n",
        "    def __init__(self):\n",
        "        super(ResNet50Fc, self).__init__()\n",
        "        model_resnet50 = models.resnet50(pretrained=True)\n",
        "        self.conv1 = model_resnet50.conv1\n",
        "        self.bn1 = model_resnet50.bn1\n",
        "        self.relu = model_resnet50.relu\n",
        "        self.maxpool = model_resnet50.maxpool\n",
        "        self.layer1 = model_resnet50.layer1\n",
        "        self.layer2 = model_resnet50.layer2\n",
        "        self.layer3 = model_resnet50.layer3\n",
        "        self.layer4 = model_resnet50.layer4\n",
        "        self.avgpool = model_resnet50.avgpool\n",
        "        self.__in_features = model_resnet50.fc.in_features\n",
        "\n",
        "    def forward(self, x):\n",
        "        x = self.conv1(x)\n",
        "        x = self.bn1(x)\n",
        "        x = self.relu(x)\n",
        "        x = self.maxpool(x)\n",
        "        x = self.layer1(x)\n",
        "        x = self.layer2(x)\n",
        "        x = self.layer3(x)\n",
        "        x = self.layer4(x)\n",
        "        x = self.avgpool(x)\n",
        "        x = x.view(x.size(0), -1)\n",
        "        return x\n",
        "\n",
        "    def output_num(self):\n",
        "        return self.__in_features"
      ]
    },
    {
      "cell_type": "markdown",
      "metadata": {
        "id": "IRgdNM3Wtm42"
      },
      "source": [
        "이제 Domain Adaptation을 위한 핵심 모델 클래스를 정의합니다.\n",
        "\n",
        "ResNet-50을 기반으로 하되, bottleneck layer와 새로운 fc layer를 추가합니다.\n",
        "\n",
        "중요한 점은 adapt_loss 함수로 우리가 정의한 MMD 또는 CORAL loss를 forward pass에서 함께 계산한다는 것입니다."
      ]
    },
    {
      "cell_type": "code",
      "execution_count": 37,
      "metadata": {
        "id": "oC5NKJpJtm42"
      },
      "outputs": [],
      "source": [
        "class TransferNet(nn.Module):\n",
        "    def __init__(self,\n",
        "                 num_class, \n",
        "                 base_net='resnet50', \n",
        "                 transfer_loss='mmd', \n",
        "                 use_bottleneck=True, \n",
        "                 bottleneck_width=256, \n",
        "                 width=1024):\n",
        "        super(TransferNet, self).__init__()\n",
        "        if base_net == 'resnet50':\n",
        "            self.base_network = ResNet50Fc()\n",
        "        else:\n",
        "            return\n",
        "        self.use_bottleneck = use_bottleneck\n",
        "        self.transfer_loss = transfer_loss\n",
        "\n",
        "        # bottleneck_layer 수정\n",
        "        bottleneck_list = [\n",
        "            nn.Linear(self.base_network.output_num(), bottleneck_width),\n",
        "            nn.BatchNorm1d(bottleneck_width),\n",
        "            nn.ReLU(),\n",
        "            nn.Dropout(0.5)\n",
        "        ]\n",
        "        self.bottleneck_layer = nn.Sequential(*bottleneck_list)\n",
        "\n",
        "        # classifier_layer 수정\n",
        "        classifier_layer_list = [\n",
        "            nn.Linear(bottleneck_width, width),\n",
        "            nn.BatchNorm1d(width),\n",
        "            nn.ReLU(),\n",
        "            nn.Dropout(0.5),\n",
        "            nn.Linear(width, num_class)\n",
        "        ]\n",
        "        self.classifier_layer = nn.Sequential(*classifier_layer_list)\n",
        "\n",
        "        # nn.Linear 레이어 초기화\n",
        "        if isinstance(self.bottleneck_layer[0], nn.Linear):\n",
        "            self.bottleneck_layer[0].weight.data.normal_(0, 0.005)\n",
        "            self.bottleneck_layer[0].bias.data.fill_(0.1)\n",
        "        for i in range(2):\n",
        "            if isinstance(self.classifier_layer[i * 3], nn.Linear):\n",
        "                self.classifier_layer[i * 3].weight.data.normal_(0, 0.01)\n",
        "                self.classifier_layer[i * 3].bias.data.fill_(0.0)\n",
        "\n",
        "    def forward(self, source, target):\n",
        "        source = self.base_network(source)\n",
        "        target = self.base_network(target)\n",
        "        if self.use_bottleneck:\n",
        "            source = self.bottleneck_layer(source)\n",
        "            target = self.bottleneck_layer(target)\n",
        "        source_clf = self.classifier_layer(source)\n",
        "        transfer_loss = self.adapt_loss(source, target, self.transfer_loss)\n",
        "        return source_clf, transfer_loss\n",
        "\n",
        "    def predict(self, x):\n",
        "        features = self.base_network(x)\n",
        "        if self.use_bottleneck:\n",
        "            features = self.bottleneck_layer(features)\n",
        "        clf = self.classifier_layer(features)\n",
        "        return clf\n",
        "\n",
        "    def adapt_loss(self, X, Y, adapt_loss):\n",
        "        if adapt_loss == 'mmd':\n",
        "            mmd_loss = MMD_loss()\n",
        "            loss = mmd_loss(X, Y)\n",
        "        elif adapt_loss == 'coral':\n",
        "            loss = CORAL(X, Y)\n",
        "        else:\n",
        "            loss = 0\n",
        "        return loss"
      ]
    },
    {
      "cell_type": "markdown",
      "metadata": {
        "id": "hAdPs27btm42"
      },
      "source": [
        "### Train\n",
        "이제 Domain Adaptation 모델을 학습시켜 봅시다."
      ]
    },
    {
      "cell_type": "code",
      "execution_count": 38,
      "metadata": {
        "id": "OK6P8uMDtm42"
      },
      "outputs": [],
      "source": [
        "transfer_loss = 'mmd'\n",
        "learning_rate = 0.0001\n",
        "transfer_model = TransferNet(n_class, transfer_loss=transfer_loss, base_net='resnet50').cuda()\n",
        "optimizer = torch.optim.SGD([\n",
        "    {'params': transfer_model.base_network.parameters()},\n",
        "    {'params': transfer_model.bottleneck_layer.parameters(), 'lr': 10 * learning_rate},\n",
        "    {'params': transfer_model.classifier_layer.parameters(), 'lr': 10 * learning_rate},\n",
        "], lr=learning_rate, momentum=0.9, weight_decay=5e-4)\n",
        "lamb = 10 # weight for transfer loss, it is a hyperparameter that needs to be tuned"
      ]
    },
    {
      "cell_type": "markdown",
      "metadata": {
        "id": "4WpUfcHItm42"
      },
      "source": [
        "학습 함수에서는 source 데이터와 label, target 데이터를 모두 사용해야 하므로, source와 target의 dataloader를 zip으로 묶어서 동시에 iterate합니다.\n",
        "\n",
        "보통 두 도메인의 샘플 수는 다르기 때문에, 여러 epoch에 걸쳐 무작위로 잘 섞이면 전체 데이터를 충분히 학습할 수 있습니다."
      ]
    },
    {
      "cell_type": "code",
      "execution_count": 39,
      "metadata": {
        "id": "AGlVNI2ktm42"
      },
      "outputs": [],
      "source": [
        "def train(dataloaders, model, optimizer):\n",
        "    source_loader, target_train_loader, target_test_loader = dataloaders['src'], dataloaders['val'], dataloaders['tar']\n",
        "    len_source_loader = len(source_loader)\n",
        "    len_target_loader = len(target_train_loader)\n",
        "    best_acc = 0\n",
        "    stop = 0\n",
        "    n_batch = min(len_source_loader, len_target_loader)\n",
        "    for e in range(n_epoch):\n",
        "        stop += 1\n",
        "        train_loss_clf, train_loss_transfer, train_loss_total = 0, 0, 0\n",
        "        model.train()\n",
        "        for (src, tar) in zip(source_loader, target_train_loader):\n",
        "            data_source, label_source = src\n",
        "            data_target, _ = tar\n",
        "            data_source, label_source = data_source.cuda(), label_source.cuda()\n",
        "            data_target = data_target.cuda()\n",
        "\n",
        "            optimizer.zero_grad()\n",
        "            label_source_pred, transfer_loss = model(data_source, data_target)\n",
        "            clf_loss = criterion(label_source_pred, label_source)\n",
        "            loss = clf_loss + lamb * transfer_loss\n",
        "            loss.backward()\n",
        "            optimizer.step()\n",
        "            train_loss_clf = clf_loss.detach().item() + train_loss_clf\n",
        "            train_loss_transfer = transfer_loss.detach().item() + train_loss_transfer\n",
        "            train_loss_total = loss.detach().item() + train_loss_total\n",
        "        acc = test(model, target_test_loader)\n",
        "        print(f'Epoch: [{e:2d}/{n_epoch}], cls_loss: {train_loss_clf/n_batch:.4f}, transfer_loss: {train_loss_transfer/n_batch:.4f}, total_Loss: {train_loss_total/n_batch:.4f}, acc: {acc:.4f}')\n",
        "        if best_acc < acc:\n",
        "            best_acc = acc\n",
        "            torch.save(model.state_dict(), 'trans_model.pkl')\n",
        "            stop = 0\n",
        "        if stop >= early_stop:\n",
        "            break"
      ]
    },
    {
      "cell_type": "code",
      "execution_count": 40,
      "metadata": {
        "id": "nqSCG6-Xtm43",
        "scrolled": true
      },
      "outputs": [
        {
          "name": "stdout",
          "output_type": "stream",
          "text": [
            "Epoch: [ 0/100], cls_loss: 3.2474, transfer_loss: 0.1659, total_Loss: 4.9060, acc: 0.4704\n",
            "Epoch: [ 1/100], cls_loss: 2.4612, transfer_loss: 0.1641, total_Loss: 4.1026, acc: 0.6113\n",
            "Epoch: [ 2/100], cls_loss: 1.9403, transfer_loss: 0.1648, total_Loss: 3.5879, acc: 0.6528\n",
            "Epoch: [ 3/100], cls_loss: 1.6951, transfer_loss: 0.1627, total_Loss: 3.3217, acc: 0.6767\n",
            "Epoch: [ 4/100], cls_loss: 1.5414, transfer_loss: 0.1616, total_Loss: 3.1577, acc: 0.6969\n",
            "Epoch: [ 5/100], cls_loss: 1.4354, transfer_loss: 0.1626, total_Loss: 3.0616, acc: 0.7157\n",
            "Epoch: [ 6/100], cls_loss: 1.3860, transfer_loss: 0.1620, total_Loss: 3.0059, acc: 0.7031\n",
            "Epoch: [ 7/100], cls_loss: 1.1831, transfer_loss: 0.1632, total_Loss: 2.8152, acc: 0.7132\n",
            "Epoch: [ 8/100], cls_loss: 1.1968, transfer_loss: 0.1606, total_Loss: 2.8029, acc: 0.7094\n",
            "Epoch: [ 9/100], cls_loss: 1.1294, transfer_loss: 0.1635, total_Loss: 2.7640, acc: 0.7245\n",
            "Epoch: [10/100], cls_loss: 1.0592, transfer_loss: 0.1631, total_Loss: 2.6902, acc: 0.7044\n",
            "Epoch: [11/100], cls_loss: 1.0132, transfer_loss: 0.1585, total_Loss: 2.5978, acc: 0.7094\n",
            "Epoch: [12/100], cls_loss: 0.9760, transfer_loss: 0.1612, total_Loss: 2.5882, acc: 0.7119\n",
            "Epoch: [13/100], cls_loss: 0.9990, transfer_loss: 0.1594, total_Loss: 2.5928, acc: 0.7107\n",
            "Epoch: [14/100], cls_loss: 0.9478, transfer_loss: 0.1603, total_Loss: 2.5505, acc: 0.7296\n",
            "Epoch: [15/100], cls_loss: 0.9283, transfer_loss: 0.1592, total_Loss: 2.5199, acc: 0.7333\n",
            "Epoch: [16/100], cls_loss: 0.9398, transfer_loss: 0.1601, total_Loss: 2.5410, acc: 0.7447\n",
            "Epoch: [17/100], cls_loss: 0.8539, transfer_loss: 0.1586, total_Loss: 2.4402, acc: 0.7459\n",
            "Epoch: [18/100], cls_loss: 0.9106, transfer_loss: 0.1596, total_Loss: 2.5062, acc: 0.7610\n",
            "Epoch: [19/100], cls_loss: 0.8563, transfer_loss: 0.1582, total_Loss: 2.4387, acc: 0.7358\n",
            "Epoch: [20/100], cls_loss: 0.8545, transfer_loss: 0.1569, total_Loss: 2.4233, acc: 0.7396\n",
            "Epoch: [21/100], cls_loss: 0.8288, transfer_loss: 0.1573, total_Loss: 2.4021, acc: 0.7296\n",
            "Epoch: [22/100], cls_loss: 0.8351, transfer_loss: 0.1568, total_Loss: 2.4033, acc: 0.7270\n",
            "Epoch: [23/100], cls_loss: 0.8070, transfer_loss: 0.1557, total_Loss: 2.3645, acc: 0.7107\n",
            "Epoch: [24/100], cls_loss: 0.8369, transfer_loss: 0.1574, total_Loss: 2.4109, acc: 0.7195\n",
            "Epoch: [25/100], cls_loss: 0.8325, transfer_loss: 0.1531, total_Loss: 2.3639, acc: 0.7107\n",
            "Epoch: [26/100], cls_loss: 0.7601, transfer_loss: 0.1540, total_Loss: 2.2997, acc: 0.7044\n",
            "Epoch: [27/100], cls_loss: 0.8034, transfer_loss: 0.1532, total_Loss: 2.3355, acc: 0.7069\n",
            "Epoch: [28/100], cls_loss: 0.7878, transfer_loss: 0.1519, total_Loss: 2.3071, acc: 0.7044\n",
            "Epoch: [29/100], cls_loss: 0.7727, transfer_loss: 0.1500, total_Loss: 2.2731, acc: 0.7220\n",
            "Epoch: [30/100], cls_loss: 0.7365, transfer_loss: 0.1506, total_Loss: 2.2429, acc: 0.7094\n",
            "Epoch: [31/100], cls_loss: 0.7485, transfer_loss: 0.1482, total_Loss: 2.2309, acc: 0.7220\n",
            "Epoch: [32/100], cls_loss: 0.7654, transfer_loss: 0.1477, total_Loss: 2.2426, acc: 0.7082\n",
            "Epoch: [33/100], cls_loss: 0.7536, transfer_loss: 0.1432, total_Loss: 2.1858, acc: 0.7094\n",
            "Epoch: [34/100], cls_loss: 0.7702, transfer_loss: 0.1444, total_Loss: 2.2147, acc: 0.7182\n",
            "Epoch: [35/100], cls_loss: 0.7190, transfer_loss: 0.1439, total_Loss: 2.1584, acc: 0.7082\n",
            "Epoch: [36/100], cls_loss: 0.7233, transfer_loss: 0.1413, total_Loss: 2.1361, acc: 0.7145\n",
            "Epoch: [37/100], cls_loss: 0.7642, transfer_loss: 0.1415, total_Loss: 2.1792, acc: 0.7031\n",
            "Epoch: [38/100], cls_loss: 0.6845, transfer_loss: 0.1386, total_Loss: 2.0703, acc: 0.7082\n"
          ]
        }
      ],
      "source": [
        "# Domain Adaptation 모델을 학습시키는 함수를 호출하여 학습 진행\n",
        "train(dataloaders, transfer_model, optimizer)"
      ]
    },
    {
      "cell_type": "code",
      "execution_count": 41,
      "metadata": {
        "id": "yWvYODRDtm43"
      },
      "outputs": [
        {
          "name": "stdout",
          "output_type": "stream",
          "text": [
            "Test accuracy: 0.761006289308176\n"
          ]
        }
      ],
      "source": [
        "transfer_model.load_state_dict(torch.load('trans_model.pkl'))\n",
        "acc_test = test(transfer_model, dataloaders['tar'])\n",
        "print(f'Test accuracy: {acc_test}')"
      ]
    }
  ],
  "metadata": {
    "colab": {
      "collapsed_sections": [],
      "name": "deep_transfer_tutorial.ipynb",
      "provenance": []
    },
    "kernelspec": {
      "display_name": "Python 3",
      "language": "python",
      "name": "python3"
    },
    "language_info": {
      "codemirror_mode": {
        "name": "ipython",
        "version": 3
      },
      "file_extension": ".py",
      "mimetype": "text/x-python",
      "name": "python",
      "nbconvert_exporter": "python",
      "pygments_lexer": "ipython3",
      "version": "3.10.12"
    }
  },
  "nbformat": 4,
  "nbformat_minor": 0
}
